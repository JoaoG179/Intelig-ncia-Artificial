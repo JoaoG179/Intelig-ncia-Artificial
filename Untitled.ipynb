{
  "nbformat": 4,
  "nbformat_minor": 0,
  "metadata": {
    "colab": {
      "provenance": [],
      "authorship_tag": "ABX9TyMc5EXEq82yNd3vYYx8XwpL",
      "include_colab_link": true
    },
    "kernelspec": {
      "name": "python3",
      "display_name": "Python 3"
    },
    "language_info": {
      "name": "python"
    }
  },
  "cells": [
    {
      "cell_type": "markdown",
      "metadata": {
        "id": "view-in-github",
        "colab_type": "text"
      },
      "source": [
        "<a href=\"https://colab.research.google.com/github/JoaoG179/Intelig-ncia-Artificial/blob/main/Untitled.ipynb\" target=\"_parent\"><img src=\"https://colab.research.google.com/assets/colab-badge.svg\" alt=\"Open In Colab\"/></a>"
      ]
    },
    {
      "cell_type": "code",
      "execution_count": 1,
      "metadata": {
        "colab": {
          "base_uri": "https://localhost:8080/"
        },
        "id": "wHJmJK3xl-Il",
        "outputId": "98d0d6cb-bb1e-4154-f3d8-efe1d318f814"
      },
      "outputs": [
        {
          "output_type": "stream",
          "name": "stdout",
          "text": [
            "Previsões:\n",
            "Nuvens: 0, Previsão Chuva: 0 => Levar Guarda-chuva? Não\n",
            "Nuvens: 0, Previsão Chuva: 1 => Levar Guarda-chuva? Sim\n",
            "Nuvens: 1, Previsão Chuva: 0 => Levar Guarda-chuva? Sim\n",
            "Nuvens: 1, Previsão Chuva: 1 => Levar Guarda-chuva? Sim\n"
          ]
        }
      ],
      "source": [
        "# Importando biblioteca\n",
        "from sklearn.linear_model import Perceptron\n",
        "\n",
        "# Dados de entrada\n",
        "X = [[0, 0], [0, 1], [1, 0], [1, 1]]\n",
        "\n",
        "# Saídas desejadas\n",
        "Y = [0, 1, 1, 1]\n",
        "\n",
        "# Criando e treinando o perceptron\n",
        "modelo = Perceptron()\n",
        "modelo.fit(X, Y)\n",
        "\n",
        "# Testando o modelo\n",
        "print(\"Previsões:\")\n",
        "testes = [[0,0], [0,1], [1,0], [1,1]]\n",
        "for teste in testes:\n",
        "  previsao = modelo.predict([teste])\n",
        "  print(f\"Nuvens: {teste[0]}, Previsão Chuva: {teste[1]} => Levar Guarda-chuva? {'Sim' if previsao[0] == 1 else 'Não'}\")"
      ]
    },
    {
      "cell_type": "code",
      "source": [
        "# Importando biblioteca\n",
        "from sklearn.linear_model import Perceptron\n",
        "\n",
        "# Dados de entrada\n",
        "X = [[0, 0, 0], [0, 1, 0], [1, 0, 0], [1, 1, 0], [0, 0, 1], [0, 1, 1], [1, 0, 1], [1, 1, 1]]\n",
        "\n",
        "# Saídas desejadas\n",
        "Y = [0, 1, 1, 1, 0, 0, 0, 0]\n",
        "\n",
        "# Criando e treinando o perceptron\n",
        "modelo = Perceptron()\n",
        "modelo.fit(X, Y)\n",
        "\n",
        "# Testando o modelo\n",
        "print(\"Previsões:\")\n",
        "testes = [[0, 0, 0], [0, 1, 0], [1, 0, 0], [1, 1, 0], [0, 0, 1], [0, 1, 1], [1, 0, 1], [1, 1, 1]]\n",
        "for teste in testes:\n",
        "  previsao = modelo.predict([teste])\n",
        "  print(f\"Ensolarado: {teste[0]}, Final de Semana: {teste[1]}, Parque Lotado: {teste[2]} => Ir ao Parque? {'Sim' if previsao[0] == 1 else 'Não'}\")"
      ],
      "metadata": {
        "colab": {
          "base_uri": "https://localhost:8080/"
        },
        "id": "pR8E6jeAmFoe",
        "outputId": "f3f6dfab-a359-42db-cad3-65c96bb9a056"
      },
      "execution_count": 11,
      "outputs": [
        {
          "output_type": "stream",
          "name": "stdout",
          "text": [
            "Previsões:\n",
            "Ensolarado: 0, Final de Semana: 0, Parque Lotado: 0 => Ir ao Parque? Não\n",
            "Ensolarado: 0, Final de Semana: 1, Parque Lotado: 0 => Ir ao Parque? Sim\n",
            "Ensolarado: 1, Final de Semana: 0, Parque Lotado: 0 => Ir ao Parque? Sim\n",
            "Ensolarado: 1, Final de Semana: 1, Parque Lotado: 0 => Ir ao Parque? Sim\n",
            "Ensolarado: 0, Final de Semana: 0, Parque Lotado: 1 => Ir ao Parque? Não\n",
            "Ensolarado: 0, Final de Semana: 1, Parque Lotado: 1 => Ir ao Parque? Não\n",
            "Ensolarado: 1, Final de Semana: 0, Parque Lotado: 1 => Ir ao Parque? Não\n",
            "Ensolarado: 1, Final de Semana: 1, Parque Lotado: 1 => Ir ao Parque? Não\n"
          ]
        }
      ]
    },
    {
      "cell_type": "code",
      "source": [
        "# Importando biblioteca\n",
        "from sklearn.linear_model import Perceptron\n",
        "\n",
        "# Dados de entrada\n",
        "X = [[0, 1, 1, 1], [1, 0, 1, 1], [1, 1, 0, 1], [0, 0, 1, 0], [1, 1, 1, 1], [0, 1, 0, 0], [1, 0, 0, 1], [0, 0, 0, 1]]\n",
        "\n",
        "# Saídas desejadas\n",
        "Y = [0, 1, 0, 1, 1, 0, 0, 0]\n",
        "\n",
        "# Criando e treinando o perceptron\n",
        "modelo = Perceptron()\n",
        "modelo.fit(X, Y)\n",
        "\n",
        "# Testando o modelo\n",
        "print(\"Previsões:\")\n",
        "testes = [[0, 1, 1, 1], [1, 0, 1, 1], [1, 1, 0, 1], [0, 0, 1, 0], [1, 1, 1, 1], [0, 1, 0, 0], [1, 0, 0, 1], [0, 0, 0, 1]]\n",
        "for teste in testes:\n",
        "  previsao = modelo.predict([teste])\n",
        "  print(f\"Cansado: {teste[0]}, Ingredientes em casa: {teste[1]}, Restaurante aberto: {teste[2]}, Pagamento recente: {teste[3]} => Comer fora? {'Sim' if previsao[0] == 1 else 'Não'}\")"
      ],
      "metadata": {
        "colab": {
          "base_uri": "https://localhost:8080/"
        },
        "id": "98F-ii6enDCY",
        "outputId": "1c98ab11-47c3-4f2e-e7b1-9ad7ab1dc28f"
      },
      "execution_count": 29,
      "outputs": [
        {
          "output_type": "stream",
          "name": "stdout",
          "text": [
            "Previsões:\n",
            "Cansado: 0, Ingredientes em casa: 1, Restaurante aberto: 1, Pagamento recente: 1 => Comer fora? Não\n",
            "Cansado: 1, Ingredientes em casa: 0, Restaurante aberto: 1, Pagamento recente: 1 => Comer fora? Sim\n",
            "Cansado: 1, Ingredientes em casa: 1, Restaurante aberto: 0, Pagamento recente: 1 => Comer fora? Não\n",
            "Cansado: 0, Ingredientes em casa: 0, Restaurante aberto: 1, Pagamento recente: 0 => Comer fora? Sim\n",
            "Cansado: 1, Ingredientes em casa: 1, Restaurante aberto: 1, Pagamento recente: 1 => Comer fora? Sim\n",
            "Cansado: 0, Ingredientes em casa: 1, Restaurante aberto: 0, Pagamento recente: 0 => Comer fora? Não\n",
            "Cansado: 1, Ingredientes em casa: 0, Restaurante aberto: 0, Pagamento recente: 1 => Comer fora? Não\n",
            "Cansado: 0, Ingredientes em casa: 0, Restaurante aberto: 0, Pagamento recente: 1 => Comer fora? Não\n"
          ]
        }
      ]
    }
  ]
}